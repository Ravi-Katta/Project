{
 "cells": [
  {
   "cell_type": "markdown",
   "id": "e8cf4aaa-e543-4d41-a177-77c9131fd2bb",
   "metadata": {},
   "source": [
    "Extracting Tesla Stock Data Using yfinance"
   ]
  },
  {
   "cell_type": "markdown",
   "id": "d6f27bc2-a48b-4a65-a2d0-98da52aff3d4",
   "metadata": {},
   "source": [
    "import yfinance as yf\n",
    "import pandas as pd\n",
    "import matplotlib_inline\n"
   ]
  },
  {
   "cell_type": "code",
   "execution_count": 2,
   "id": "03293947-d866-460b-acb2-b299571427a6",
   "metadata": {},
   "outputs": [
    {
     "name": "stderr",
     "output_type": "stream",
     "text": [
      "[*********************100%%**********************]  1 of 1 completed"
     ]
    },
    {
     "name": "stdout",
     "output_type": "stream",
     "text": [
      "        Date       Open       High        Low      Close  Adj Close     Volume\n",
      "0 2020-01-02  28.299999  28.713333  28.114000  28.684000  28.684000  142981500\n",
      "1 2020-01-03  29.366667  30.266666  29.128000  29.534000  29.534000  266677500\n",
      "2 2020-01-06  29.364668  30.104000  29.333332  30.102667  30.102667  151995000\n",
      "3 2020-01-07  30.760000  31.441999  30.224001  31.270666  31.270666  268231500\n",
      "4 2020-01-08  31.580000  33.232666  31.215334  32.809334  32.809334  467164500\n"
     ]
    },
    {
     "name": "stderr",
     "output_type": "stream",
     "text": [
      "\n"
     ]
    }
   ],
   "source": [
    "import yfinance as yf\n",
    "\n",
    "# Define the ticker symbol for Tesla\n",
    "ticker_symbol = 'TSLA'\n",
    "\n",
    "# Download Tesla stock data\n",
    "tesla_data = yf.download(ticker_symbol, start='2020-01-01', end='2023-01-01')\n",
    "\n",
    "# Reset the index\n",
    "tesla_data.reset_index(inplace=True)\n",
    "\n",
    "# Display the first five rows\n",
    "print(tesla_data.head())"
   ]
  },
  {
   "cell_type": "markdown",
   "id": "a1c9e373-2573-403e-a260-cf833b299a69",
   "metadata": {},
   "source": [
    "Extracting Tesla Revenue Data Using Webscraping "
   ]
  },
  {
   "cell_type": "code",
   "execution_count": 3,
   "id": "cd2ab0c9-9cfe-44a7-9774-86dec2387005",
   "metadata": {},
   "outputs": [
    {
     "name": "stdout",
     "output_type": "stream",
     "text": [
      "          Date Revenue\n",
      "49  2010-06-30      28\n",
      "50  2010-03-31      21\n",
      "51  2009-12-31        \n",
      "52  2009-09-30      46\n",
      "53  2009-06-30      27\n"
     ]
    }
   ],
   "source": [
    "from bs4 import BeautifulSoup\n",
    "import requests\n",
    "import pandas as pd\n",
    "\n",
    "# Fetch the webpage content\n",
    "url = 'https://cf-courses-data.s3.us.cloud-object-storage.appdomain.cloud/IBMDeveloperSkillsNetwork-PY0220EN-SkillsNetwork/labs/project/revenue.htm'\n",
    "response = requests.get(url)\n",
    "soup = BeautifulSoup(response.content, 'html.parser')\n",
    "\n",
    "# Find all tables on the page\n",
    "tables = soup.find_all('table')\n",
    "\n",
    "# Initialize an empty DataFrame\n",
    "tesla_revenue = pd.DataFrame(columns=['Date', 'Revenue'])\n",
    "\n",
    "# Identify the relevant table\n",
    "for table in tables:\n",
    "    if 'Tesla Quarterly Revenue' in table.get_text():\n",
    "        relevant_table = table\n",
    "        break\n",
    "\n",
    "# Loop through rows in the table\n",
    "tesla_data = []\n",
    "for row in relevant_table.find_all('tr'):\n",
    "    columns = row.find_all('td')\n",
    "   \n",
    "    if len(columns) >= 2:\n",
    "        date = columns[0].get_text(strip=True)\n",
    "        revenue = columns[1].get_text(strip=True)\n",
    "        \n",
    "        # Clean revenue data\n",
    "        revenue = revenue.replace('$', '').replace(',', '')\n",
    "        \n",
    "        tesla_data.append({'Date': date, 'Revenue': revenue})\n",
    "\n",
    "tesla_revenue = pd.DataFrame(tesla_data)\n",
    "\n",
    "# Display the last five rows\n",
    "print(tesla_revenue.tail())\n"
   ]
  },
  {
   "cell_type": "markdown",
   "id": "6718b577-f70f-498a-98c4-018ab8885281",
   "metadata": {},
   "source": [
    "Extracting GameStop Stock Data Using yfinance "
   ]
  },
  {
   "cell_type": "code",
   "execution_count": 4,
   "id": "7aed6951-c35c-48bb-a305-e72ea08af4d2",
   "metadata": {},
   "outputs": [
    {
     "name": "stdout",
     "output_type": "stream",
     "text": [
      "                       Date      Open      High       Low     Close    Volume  \\\n",
      "0 2002-02-13 00:00:00-05:00  1.620129  1.693350  1.603296  1.691667  76216000   \n",
      "1 2002-02-14 00:00:00-05:00  1.712707  1.716074  1.670626  1.683250  11021600   \n",
      "2 2002-02-15 00:00:00-05:00  1.683250  1.687458  1.658001  1.674834   8389600   \n",
      "3 2002-02-19 00:00:00-05:00  1.666417  1.666417  1.578047  1.607504   7410400   \n",
      "4 2002-02-20 00:00:00-05:00  1.615921  1.662210  1.603296  1.662210   6892800   \n",
      "\n",
      "   Dividends  Stock Splits  \n",
      "0        0.0           0.0  \n",
      "1        0.0           0.0  \n",
      "2        0.0           0.0  \n",
      "3        0.0           0.0  \n",
      "4        0.0           0.0  \n"
     ]
    }
   ],
   "source": [
    "import yfinance as yf\n",
    "\n",
    "# Create a Ticker object for GameStop\n",
    "ticker = yf.Ticker(\"GME\")\n",
    "\n",
    "# Fetch historical data for GameStop\n",
    "gamestop_data = ticker.history(period='max')\n",
    "\n",
    "# Reset the index\n",
    "gamestop_data.reset_index(inplace=True)\n",
    "\n",
    "# Display the first five rows\n",
    "print(gamestop_data.head())"
   ]
  },
  {
   "cell_type": "markdown",
   "id": "c3eeb1c7-e55e-4ca7-a8bf-17556a68ed48",
   "metadata": {},
   "source": [
    "Extracting GameStop Revenue Data Using Webscraping "
   ]
  },
  {
   "cell_type": "code",
   "execution_count": 5,
   "id": "9479c985-f818-463a-8a4d-0ae37ec439d4",
   "metadata": {},
   "outputs": [
    {
     "name": "stdout",
     "output_type": "stream",
     "text": [
      "          Date Revenue\n",
      "57  2006-01-31    1667\n",
      "58  2005-10-31     534\n",
      "59  2005-07-31     416\n",
      "60  2005-04-30     475\n",
      "61  2005-01-31     709\n"
     ]
    }
   ],
   "source": [
    "\n",
    "from bs4 import BeautifulSoup\n",
    "import requests\n",
    "import pandas as pd\n",
    "\n",
    "# Fetch the webpage content\n",
    "url = 'https://cf-courses-data.s3.us.cloud-object-storage.appdomain.cloud/IBMDeveloperSkillsNetwork-PY0220EN-SkillsNetwork/labs/project/stock.html'\n",
    "response = requests.get(url)\n",
    "soup = BeautifulSoup(response.content, 'html.parser')\n",
    "\n",
    "# Find all tables on the page\n",
    "tables = soup.find_all('table')\n",
    "\n",
    "# Initialize an empty DataFrame\n",
    "gamestop_revenue = pd.DataFrame(columns=['Date', 'Revenue'])\n",
    "\n",
    "# Identify the relevant table\n",
    "for table in tables:\n",
    "    if 'GameStop Quarterly Revenue' in table.get_text():\n",
    "        relevant_table = table\n",
    "        break\n",
    "\n",
    "# Loop through rows in the table\n",
    "gamestop_data = []\n",
    "for row in relevant_table.find_all('tr'):\n",
    "    columns = row.find_all('td')\n",
    "   \n",
    "    if len(columns) >= 2:\n",
    "        date = columns[0].get_text(strip=True)\n",
    "        revenue = columns[1].get_text(strip=True)\n",
    "        \n",
    "        # Clean revenue data\n",
    "        revenue = revenue.replace('$', '').replace(',', '')\n",
    "        \n",
    "        # Append to DataFrame\n",
    "        gamestop_data.append({'Date': date, 'Revenue': revenue})\n",
    "gamestop_revenue = pd.DataFrame(gamestop_data)\n",
    "\n",
    "# Display the last five rows\n",
    "print(gamestop_revenue.tail())\n"
   ]
  },
  {
   "cell_type": "markdown",
   "id": "15232d4f-6821-4579-b6b9-f12ea725009f",
   "metadata": {},
   "source": [
    "Tesla Stock and Revenue Dashboard "
   ]
  },
  {
   "cell_type": "code",
   "execution_count": 1,
   "id": "5d166734-02bd-49c4-b5b2-92cbb01ca66b",
   "metadata": {
    "scrolled": true
   },
   "outputs": [
    {
     "name": "stderr",
     "output_type": "stream",
     "text": [
      "C:\\Users\\acer\\AppData\\Local\\Temp\\ipykernel_12676\\2092538087.py:20: FutureWarning: 'M' is deprecated and will be removed in a future version, please use 'ME' instead.\n",
      "  'Date': pd.date_range(start='2021-01-01', periods=10, freq='M'),\n"
     ]
    },
    {
     "data": {
      "text/html": [
       "\n",
       "        <iframe\n",
       "            width=\"100%\"\n",
       "            height=\"650\"\n",
       "            src=\"http://127.0.0.1:8050/\"\n",
       "            frameborder=\"0\"\n",
       "            allowfullscreen\n",
       "            \n",
       "        ></iframe>\n",
       "        "
      ],
      "text/plain": [
       "<IPython.lib.display.IFrame at 0x1f0e77b3ce0>"
      ]
     },
     "metadata": {},
     "output_type": "display_data"
    }
   ],
   "source": [
    "import dash\n",
    "from dash import dcc, html\n",
    "from dash.dependencies import Input, Output\n",
    "import plotly.graph_objs as go\n",
    "import pandas as pd\n",
    "import numpy as np\n",
    "\n",
    "# Sample historical data for Tesla stock prices\n",
    "tesla_stock_data = pd.DataFrame({\n",
    "    'Date': pd.date_range(start='2021-01-01', periods=100, freq='D'),\n",
    "    'Open': np.random.rand(100) * 1000,\n",
    "    'High': np.random.rand(100) * 1000,\n",
    "    'Low': np.random.rand(100) * 1000,\n",
    "    'Close': np.random.rand(100) * 1000\n",
    "})\n",
    "tesla_stock_data.set_index('Date', inplace=True)\n",
    "\n",
    "# Sample historical data for Tesla revenue\n",
    "tesla_revenue = pd.DataFrame({\n",
    "    'Date': pd.date_range(start='2021-01-01', periods=10, freq='M'),\n",
    "    'Revenue': np.random.rand(10) * 1000\n",
    "})\n",
    "\n",
    "# Initialize the Dash app\n",
    "app = dash.Dash(__name__)\n",
    "\n",
    "# Define the layout of the app\n",
    "app.layout = html.Div([\n",
    "    html.H1(\"Tesla Stock and Revenue Dashboard\"),\n",
    "    dcc.Graph(id='stock-chart'),\n",
    "    dcc.Graph(id='revenue-chart'),\n",
    "    dcc.Interval(\n",
    "        id='interval-component',\n",
    "        interval=1*1000,  # in milliseconds\n",
    "        n_intervals=0\n",
    "    )\n",
    "])\n",
    "\n",
    "# Define callback to update the stock chart\n",
    "@app.callback(\n",
    "    Output('stock-chart', 'figure'),\n",
    "    Input('interval-component', 'n_intervals')\n",
    ")\n",
    "def update_stock_chart(n):\n",
    "    fig = go.Figure(data=[\n",
    "        go.Candlestick(\n",
    "            x=tesla_stock_data.index,\n",
    "            open=tesla_stock_data['Open'],\n",
    "            high=tesla_stock_data['High'],\n",
    "            low=tesla_stock_data['Low'],\n",
    "            close=tesla_stock_data['Close']\n",
    "        )\n",
    "    ])\n",
    "    fig.update_layout(title='Tesla Stock Price', xaxis_title='Date', yaxis_title='Price')\n",
    "    return fig\n",
    "\n",
    "# Define callback to update the revenue chart\n",
    "@app.callback(\n",
    "    Output('revenue-chart', 'figure'),\n",
    "    Input('interval-component', 'n_intervals')\n",
    ")\n",
    "def update_revenue_chart(n):\n",
    "    fig = go.Figure(data=[\n",
    "        go.Bar(\n",
    "            x=tesla_revenue['Date'],\n",
    "            y=tesla_revenue['Revenue']\n",
    "        )\n",
    "    ])\n",
    "    fig.update_layout(title='Tesla Revenue', xaxis_title='Date', yaxis_title='Revenue')\n",
    "    return fig\n",
    "\n",
    "# Run the app\n",
    "if __name__ == '__main__':\n",
    "    app.run_server(debug=True)"
   ]
  },
  {
   "cell_type": "markdown",
   "id": "5f3a1b37-82e6-47d8-bf49-9cc526d4097d",
   "metadata": {},
   "source": [
    "GameStop Stock and Revenue Dashboard"
   ]
  },
  {
   "cell_type": "code",
   "execution_count": 1,
   "id": "eea270c3-f0a4-4a7e-957b-e2d9763d7d36",
   "metadata": {},
   "outputs": [
    {
     "name": "stderr",
     "output_type": "stream",
     "text": [
      "C:\\Users\\acer\\AppData\\Local\\Temp\\ipykernel_1304\\358928073.py:20: FutureWarning: 'M' is deprecated and will be removed in a future version, please use 'ME' instead.\n",
      "  'Date': pd.date_range(start='2021-01-01', periods=10, freq='M'),\n"
     ]
    },
    {
     "data": {
      "text/html": [
       "\n",
       "        <iframe\n",
       "            width=\"100%\"\n",
       "            height=\"650\"\n",
       "            src=\"http://127.0.0.1:8050/\"\n",
       "            frameborder=\"0\"\n",
       "            allowfullscreen\n",
       "            \n",
       "        ></iframe>\n",
       "        "
      ],
      "text/plain": [
       "<IPython.lib.display.IFrame at 0x2309b74aae0>"
      ]
     },
     "metadata": {},
     "output_type": "display_data"
    }
   ],
   "source": [
    "import dash\n",
    "from dash import dcc, html\n",
    "from dash.dependencies import Input, Output\n",
    "import plotly.graph_objs as go\n",
    "import pandas as pd\n",
    "import numpy as np\n",
    "\n",
    "# Sample historical data for GameStop stock prices\n",
    "gamestop_stock_data = pd.DataFrame({\n",
    "    'Date': pd.date_range(start='2021-01-01', periods=100, freq='D'),\n",
    "    'Open': np.random.rand(100) * 100,\n",
    "    'High': np.random.rand(100) * 100,\n",
    "    'Low': np.random.rand(100) * 100,\n",
    "    'Close': np.random.rand(100) * 100\n",
    "})\n",
    "gamestop_stock_data.set_index('Date', inplace=True)\n",
    "\n",
    "# Sample historical data for GameStop revenue\n",
    "gamestop_revenue = pd.DataFrame({\n",
    "    'Date': pd.date_range(start='2021-01-01', periods=10, freq='M'),\n",
    "    'Revenue': np.random.rand(10) * 1000\n",
    "})\n",
    "\n",
    "# Initialize the Dash app\n",
    "app = dash.Dash(__name__)\n",
    "\n",
    "# Define the layout of the app\n",
    "app.layout = html.Div([\n",
    "    html.H1(\"GameStop Stock and Revenue Dashboard\"),\n",
    "    dcc.Graph(id='stock-chart'),\n",
    "    dcc.Graph(id='revenue-chart'),\n",
    "    dcc.Interval(\n",
    "        id='interval-component',\n",
    "        interval=1*1000,  # in milliseconds\n",
    "        n_intervals=0\n",
    "    )\n",
    "])\n",
    "\n",
    "# Define callback to update the stock chart\n",
    "@app.callback(\n",
    "    Output('stock-chart', 'figure'),\n",
    "    Input('interval-component', 'n_intervals')\n",
    ")\n",
    "def update_stock_chart(n):\n",
    "    fig = go.Figure(data=[\n",
    "        go.Candlestick(\n",
    "            x=gamestop_stock_data.index,\n",
    "            open=gamestop_stock_data['Open'],\n",
    "            high=gamestop_stock_data['High'],\n",
    "            low=gamestop_stock_data['Low'],\n",
    "            close=gamestop_stock_data['Close']\n",
    "        )\n",
    "    ])\n",
    "    fig.update_layout(title='GameStop Stock Price', xaxis_title='Date', yaxis_title='Price')\n",
    "    return fig\n",
    "\n",
    "# Define callback to update the revenue chart\n",
    "@app.callback(\n",
    "    Output('revenue-chart', 'figure'),\n",
    "    Input('interval-component', 'n_intervals')\n",
    ")\n",
    "def update_revenue_chart(n):\n",
    "    fig = go.Figure(data=[\n",
    "        go.Bar(\n",
    "            x=gamestop_revenue['Date'],\n",
    "            y=gamestop_revenue['Revenue']\n",
    "        )\n",
    "    ])\n",
    "    fig.update_layout(title='GameStop Revenue', xaxis_title='Date', yaxis_title='Revenue')\n",
    "    return fig\n",
    "\n",
    "# Run the app\n",
    "if __name__ == '__main__':\n",
    "    app.run_server(debug=True)\n"
   ]
  },
  {
   "cell_type": "code",
   "execution_count": null,
   "id": "40a630c3-bbe2-4dff-a444-c997c72c3c03",
   "metadata": {},
   "outputs": [],
   "source": []
  }
 ],
 "metadata": {
  "kernelspec": {
   "display_name": "Python 3 (ipykernel)",
   "language": "python",
   "name": "python3"
  },
  "language_info": {
   "codemirror_mode": {
    "name": "ipython",
    "version": 3
   },
   "file_extension": ".py",
   "mimetype": "text/x-python",
   "name": "python",
   "nbconvert_exporter": "python",
   "pygments_lexer": "ipython3",
   "version": "3.12.3"
  }
 },
 "nbformat": 4,
 "nbformat_minor": 5
}
